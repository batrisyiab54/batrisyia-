{
 "cells": [
  {
   "cell_type": "code",
   "execution_count": 2,
   "id": "f22b9857",
   "metadata": {},
   "outputs": [
    {
     "name": "stdout",
     "output_type": "stream",
     "text": [
      "Hello World\n"
     ]
    }
   ],
   "source": [
    "print ('Hello World')"
   ]
  },
  {
   "cell_type": "code",
   "execution_count": 3,
   "id": "b30fd3ed",
   "metadata": {},
   "outputs": [
    {
     "name": "stdout",
     "output_type": "stream",
     "text": [
      "Hello World\n"
     ]
    }
   ],
   "source": [
    "\"\"\"\n",
    "This is Hello World\n",
    "\"\"\"\n",
    "print('Hello World')\n"
   ]
  },
  {
   "cell_type": "code",
   "execution_count": 4,
   "id": "591e916b",
   "metadata": {},
   "outputs": [
    {
     "name": "stdout",
     "output_type": "stream",
     "text": [
      "Hello Batrisyia\n"
     ]
    }
   ],
   "source": [
    "print('Hello Batrisyia')"
   ]
  },
  {
   "cell_type": "code",
   "execution_count": 6,
   "id": "6c4832b4",
   "metadata": {},
   "outputs": [
    {
     "name": "stdout",
     "output_type": "stream",
     "text": [
      "Hello Batrisyia muliadi\n",
      "Hello Batrisyia muliadi\n",
      "Hello Batrisyia muliadi\n",
      "Hello Batrisyia muliadi\n",
      "Hello Batrisyia muliadi\n"
     ]
    }
   ],
   "source": [
    "print('Hello Batrisyia muliadi')\n",
    "print('Hello Batrisyia muliadi')\n",
    "print('Hello Batrisyia muliadi')\n",
    "print('Hello Batrisyia muliadi')\n",
    "print('Hello Batrisyia muliadi')"
   ]
  },
  {
   "cell_type": "code",
   "execution_count": 7,
   "id": "09163484",
   "metadata": {},
   "outputs": [
    {
     "name": "stdout",
     "output_type": "stream",
     "text": [
      "Hello, Batrisyia\n",
      "Hello, Batrisyia\n",
      "Hello, Batrisyia\n",
      "Hello, Batrisyia\n",
      "Hello, Batrisyia\n"
     ]
    }
   ],
   "source": [
    "name = 'Batrisyia'\n",
    "\n",
    "print(f\"Hello, {name}\")\n",
    "print(f\"Hello, {name}\")\n",
    "print(f\"Hello, {name}\")\n",
    "print(f\"Hello, {name}\")\n",
    "print(f\"Hello, {name}\")"
   ]
  },
  {
   "cell_type": "code",
   "execution_count": 13,
   "id": "d30edec6",
   "metadata": {},
   "outputs": [
    {
     "name": "stdout",
     "output_type": "stream",
     "text": [
      "Hello, Batrisyia and i am 22 years old\n"
     ]
    }
   ],
   "source": [
    "name = 'Batrisyia'\n",
    "age = 22\n",
    "\n",
    "print(f\"Hello, {name} and i am {age } years old\") "
   ]
  },
  {
   "cell_type": "code",
   "execution_count": 14,
   "id": "e00ae7ec",
   "metadata": {},
   "outputs": [
    {
     "name": "stdout",
     "output_type": "stream",
     "text": [
      "<class 'int'>\n"
     ]
    }
   ],
   "source": [
    "age = 22\n",
    "age = int(age)\n",
    "print (type(age))"
   ]
  },
  {
   "cell_type": "code",
   "execution_count": 16,
   "id": "12f79ebb",
   "metadata": {},
   "outputs": [
    {
     "ename": "SyntaxError",
     "evalue": "unterminated string literal (detected at line 3) (3467706909.py, line 3)",
     "output_type": "error",
     "traceback": [
      "  \u001b[36mCell\u001b[39m\u001b[36m \u001b[39m\u001b[32mIn[16]\u001b[39m\u001b[32m, line 3\u001b[39m\n\u001b[31m    \u001b[39m\u001b[31mprint(text.replace('k','000'),replace('$,''))\u001b[39m\n                                              ^\n\u001b[31mSyntaxError\u001b[39m\u001b[31m:\u001b[39m unterminated string literal (detected at line 3)\n"
     ]
    }
   ],
   "source": [
    "text = '$20k'\n",
    "\n",
    "print(text.replace('k','000'),replace('$,''))"
   ]
  },
  {
   "cell_type": "code",
   "execution_count": null,
   "id": "28a4bc6a",
   "metadata": {},
   "outputs": [],
   "source": []
  }
 ],
 "metadata": {
  "kernelspec": {
   "display_name": "Python 3",
   "language": "python",
   "name": "python3"
  },
  "language_info": {
   "codemirror_mode": {
    "name": "ipython",
    "version": 3
   },
   "file_extension": ".py",
   "mimetype": "text/x-python",
   "name": "python",
   "nbconvert_exporter": "python",
   "pygments_lexer": "ipython3",
   "version": "3.12.1"
  }
 },
 "nbformat": 4,
 "nbformat_minor": 5
}
